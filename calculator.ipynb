{
 "cells": [
  {
   "cell_type": "code",
   "execution_count": 1,
   "id": "1ca3a62f-baaa-4c9d-b791-3271a884630f",
   "metadata": {},
   "outputs": [
    {
     "name": "stdin",
     "output_type": "stream",
     "text": [
      "Enter the first number:  2\n",
      "Enter the second number:  4\n",
      "Enter the operation (+, -, *, /):  +\n"
     ]
    },
    {
     "name": "stdout",
     "output_type": "stream",
     "text": [
      "Result: 6.0\n"
     ]
    }
   ],
   "source": [
    "def calculator():\n",
    "  \"\"\"A simple calculator function.\"\"\"\n",
    "\n",
    "  # Get user input for two numbers and an operation\n",
    "  num1 = float(input(\"Enter the first number: \"))\n",
    "  num2 = float(input(\"Enter the second number: \"))\n",
    "  operator = input(\"Enter the operation (+, -, *, /): \")\n",
    "\n",
    "  # Perform the calculation\n",
    "  if operator == \"+\":\n",
    "    result = num1 + num2\n",
    "  elif operator == \"-\":\n",
    "    result = num1 - num2\n",
    "  elif operator == \"*\":\n",
    "    result = num1 * num2\n",
    "  elif operator == \"/\":\n",
    "    if num2 == 0:\n",
    "      print(\"Error: Division by zero\")\n",
    "      return\n",
    "    else:\n",
    "      result = num1 / num2\n",
    "  else:\n",
    "    print(\"Invalid operator\")\n",
    "    return\n",
    "\n",
    "  # Print the result\n",
    "  print(\"Result:\", result)\n",
    "\n",
    "# Call the calculator function\n",
    "calculator()\n"
   ]
  }
 ],
 "metadata": {
  "kernelspec": {
   "display_name": "Python 3 (ipykernel)",
   "language": "python",
   "name": "python3"
  },
  "language_info": {
   "codemirror_mode": {
    "name": "ipython",
    "version": 3
   },
   "file_extension": ".py",
   "mimetype": "text/x-python",
   "name": "python",
   "nbconvert_exporter": "python",
   "pygments_lexer": "ipython3",
   "version": "3.9.19"
  }
 },
 "nbformat": 4,
 "nbformat_minor": 5
}
